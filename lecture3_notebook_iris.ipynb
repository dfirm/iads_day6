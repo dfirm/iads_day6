{
  "nbformat": 4,
  "nbformat_minor": 0,
  "metadata": {
    "kernelspec": {
      "display_name": "Python 3 (ipykernel)",
      "language": "python",
      "name": "python3"
    },
    "language_info": {
      "codemirror_mode": {
        "name": "ipython",
        "version": 3
      },
      "file_extension": ".py",
      "mimetype": "text/x-python",
      "name": "python",
      "nbconvert_exporter": "python",
      "pygments_lexer": "ipython3",
      "version": "3.9.6"
    },
    "colab": {
      "name": "lecture3-notebook-iris.ipynb",
      "provenance": [],
      "include_colab_link": true
    }
  },
  "cells": [
    {
      "cell_type": "markdown",
      "metadata": {
        "id": "view-in-github",
        "colab_type": "text"
      },
      "source": [
        "<a href=\"https://colab.research.google.com/github/dfirm/iads_day6/blob/main/lecture3_notebook_iris.ipynb\" target=\"_parent\"><img src=\"https://colab.research.google.com/assets/colab-badge.svg\" alt=\"Open In Colab\"/></a>"
      ]
    },
    {
      "cell_type": "markdown",
      "metadata": {
        "id": "oKTD-LvVJwcs"
      },
      "source": [
        "# Lecture 3 notebook\n",
        "## Introduction to TensorFlow and Deep Learning\n",
        "\n",
        "## IADS Summer School, 2nd August 2021\n",
        "\n",
        "### Dr Michael Fairbank, University of Essex, UK\n",
        "\n",
        "- Email: m.fairbank@essex.ac.uk\n",
        "- This is a Jupyter Notebook to accompany Lecture 3 of the course"
      ]
    },
    {
      "cell_type": "markdown",
      "metadata": {
        "id": "LJdE0LUqJwcy"
      },
      "source": [
        "### Load the Iris Dataset\n"
      ]
    },
    {
      "cell_type": "code",
      "metadata": {
        "colab": {
          "base_uri": "https://localhost:8080/"
        },
        "id": "XPp0Feh4Jwc0",
        "outputId": "86ace346-986b-4d33-d70f-96ce9197a028"
      },
      "source": [
        "import pandas as pd\n",
        "\n",
        "#Load CSV files\n",
        "#inputs_train=pd.read_csv('datasets/iris_train.csv',usecols = [0,1,2,3],skiprows = None,header=None).values\n",
        "#labels_train = pd.read_csv('datasets/iris_train.csv',usecols = [4],skiprows = None ,header=None).values.reshape(-1)\n",
        "#inputs_test=pd.read_csv('datasets/iris_test.csv',usecols = [0,1,2,3],skiprows = None,header=None).values\n",
        "#labels_test = pd.read_csv('datasets/iris_test.csv',usecols = [4],skiprows = None ,header=None).values.reshape(-1)\n",
        "# If the above line fails then try instead the following 4 lines, to download it directly from \n",
        "# my google drive account\n",
        "inputs_train=pd.read_csv('https://drive.google.com/uc?export=download&id=15g37AN8yaPJtuQwOnhuNuMIWcMr8vB9C',usecols = [0,1,2,3],skiprows = None,header=None).values\n",
        "labels_train = pd.read_csv('https://drive.google.com/uc?export=download&id=15g37AN8yaPJtuQwOnhuNuMIWcMr8vB9C',usecols = [4],skiprows = None ,header=None).values.reshape(-1)\n",
        "inputs_test=pd.read_csv('https://drive.google.com/uc?export=download&id=1a7ok2PiILjhzrB3cUWmXvBmHY-cpZ6lc',usecols = [0,1,2,3],skiprows = None,header=None).values\n",
        "labels_test = pd.read_csv('https://drive.google.com/uc?export=download&id=1a7ok2PiILjhzrB3cUWmXvBmHY-cpZ6lc',usecols = [4],skiprows = None ,header=None).values.reshape(-1)\n",
        "\n",
        "\n",
        "print(\"Data loaded\")\n",
        "print(\"Train set inputs:\",inputs_train)\n",
        "print(\"Train set labels:\",labels_train)\n",
        "print(\"Test set inputs:\",inputs_test)\n",
        "print(\"Test set labels:\",labels_test)\n"
      ],
      "execution_count": 1,
      "outputs": [
        {
          "output_type": "stream",
          "text": [
            "Data loaded\n",
            "Train set inputs: [[6.4 2.8 5.6 2.2]\n",
            " [5.  2.3 3.3 1. ]\n",
            " [4.9 2.5 4.5 1.7]\n",
            " [4.9 3.1 1.5 0.1]\n",
            " [5.7 3.8 1.7 0.3]\n",
            " [4.4 3.2 1.3 0.2]\n",
            " [5.4 3.4 1.5 0.4]\n",
            " [6.9 3.1 5.1 2.3]\n",
            " [6.7 3.1 4.4 1.4]\n",
            " [5.1 3.7 1.5 0.4]\n",
            " [5.2 2.7 3.9 1.4]\n",
            " [6.9 3.1 4.9 1.5]\n",
            " [5.8 4.  1.2 0.2]\n",
            " [5.4 3.9 1.7 0.4]\n",
            " [7.7 3.8 6.7 2.2]\n",
            " [6.3 3.3 4.7 1.6]\n",
            " [6.8 3.2 5.9 2.3]\n",
            " [7.6 3.  6.6 2.1]\n",
            " [6.4 3.2 5.3 2.3]\n",
            " [5.7 4.4 1.5 0.4]\n",
            " [6.7 3.3 5.7 2.1]\n",
            " [6.4 2.8 5.6 2.1]\n",
            " [5.4 3.9 1.3 0.4]\n",
            " [6.1 2.6 5.6 1.4]\n",
            " [7.2 3.  5.8 1.6]\n",
            " [5.2 3.5 1.5 0.2]\n",
            " [5.8 2.6 4.  1.2]\n",
            " [5.9 3.  5.1 1.8]\n",
            " [5.4 3.  4.5 1.5]\n",
            " [6.7 3.  5.  1.7]\n",
            " [6.3 2.3 4.4 1.3]\n",
            " [5.1 2.5 3.  1.1]\n",
            " [6.4 3.2 4.5 1.5]\n",
            " [6.8 3.  5.5 2.1]\n",
            " [6.2 2.8 4.8 1.8]\n",
            " [6.9 3.2 5.7 2.3]\n",
            " [6.5 3.2 5.1 2. ]\n",
            " [5.8 2.8 5.1 2.4]\n",
            " [5.1 3.8 1.5 0.3]\n",
            " [4.8 3.  1.4 0.3]\n",
            " [7.9 3.8 6.4 2. ]\n",
            " [5.8 2.7 5.1 1.9]\n",
            " [6.7 3.  5.2 2.3]\n",
            " [5.1 3.8 1.9 0.4]\n",
            " [4.7 3.2 1.6 0.2]\n",
            " [6.  2.2 5.  1.5]\n",
            " [4.8 3.4 1.6 0.2]\n",
            " [7.7 2.6 6.9 2.3]\n",
            " [4.6 3.6 1.  0.2]\n",
            " [7.2 3.2 6.  1.8]\n",
            " [5.  3.3 1.4 0.2]\n",
            " [6.6 3.  4.4 1.4]\n",
            " [6.1 2.8 4.  1.3]\n",
            " [5.  3.2 1.2 0.2]\n",
            " [7.  3.2 4.7 1.4]\n",
            " [6.  3.  4.8 1.8]\n",
            " [7.4 2.8 6.1 1.9]\n",
            " [5.8 2.7 5.1 1.9]\n",
            " [6.2 3.4 5.4 2.3]\n",
            " [5.  2.  3.5 1. ]\n",
            " [5.6 2.5 3.9 1.1]\n",
            " [6.7 3.1 5.6 2.4]\n",
            " [6.3 2.5 5.  1.9]\n",
            " [6.4 3.1 5.5 1.8]\n",
            " [6.2 2.2 4.5 1.5]\n",
            " [7.3 2.9 6.3 1.8]\n",
            " [4.4 3.  1.3 0.2]\n",
            " [7.2 3.6 6.1 2.5]\n",
            " [6.5 3.  5.5 1.8]\n",
            " [5.  3.4 1.5 0.2]\n",
            " [4.7 3.2 1.3 0.2]\n",
            " [6.6 2.9 4.6 1.3]\n",
            " [5.5 3.5 1.3 0.2]\n",
            " [7.7 3.  6.1 2.3]\n",
            " [6.1 3.  4.9 1.8]\n",
            " [4.9 3.1 1.5 0.1]\n",
            " [5.5 2.4 3.8 1.1]\n",
            " [5.7 2.9 4.2 1.3]\n",
            " [6.  2.9 4.5 1.5]\n",
            " [6.4 2.7 5.3 1.9]\n",
            " [5.4 3.7 1.5 0.2]\n",
            " [6.1 2.9 4.7 1.4]\n",
            " [6.5 2.8 4.6 1.5]\n",
            " [5.6 2.7 4.2 1.3]\n",
            " [6.3 3.4 5.6 2.4]\n",
            " [4.9 3.1 1.5 0.1]\n",
            " [6.8 2.8 4.8 1.4]\n",
            " [5.7 2.8 4.5 1.3]\n",
            " [6.  2.7 5.1 1.6]\n",
            " [5.  3.5 1.3 0.3]\n",
            " [6.5 3.  5.2 2. ]\n",
            " [6.1 2.8 4.7 1.2]\n",
            " [5.1 3.5 1.4 0.3]\n",
            " [4.6 3.1 1.5 0.2]\n",
            " [6.5 3.  5.8 2.2]\n",
            " [4.6 3.4 1.4 0.3]\n",
            " [4.6 3.2 1.4 0.2]\n",
            " [7.7 2.8 6.7 2. ]\n",
            " [5.9 3.2 4.8 1.8]\n",
            " [5.1 3.8 1.6 0.2]\n",
            " [4.9 3.  1.4 0.2]\n",
            " [4.9 2.4 3.3 1. ]\n",
            " [4.5 2.3 1.3 0.3]\n",
            " [5.8 2.7 4.1 1. ]\n",
            " [5.  3.4 1.6 0.4]\n",
            " [5.2 3.4 1.4 0.2]\n",
            " [5.3 3.7 1.5 0.2]\n",
            " [5.  3.6 1.4 0.2]\n",
            " [5.6 2.9 3.6 1.3]\n",
            " [4.8 3.1 1.6 0.2]\n",
            " [6.3 2.7 4.9 1.8]\n",
            " [5.7 2.8 4.1 1.3]\n",
            " [5.  3.  1.6 0.2]\n",
            " [6.3 3.3 6.  2.5]\n",
            " [5.  3.5 1.6 0.6]\n",
            " [5.5 2.6 4.4 1.2]\n",
            " [5.7 3.  4.2 1.2]\n",
            " [4.4 2.9 1.4 0.2]\n",
            " [4.8 3.  1.4 0.1]\n",
            " [5.5 2.4 3.7 1. ]]\n",
            "Train set labels: [2 1 2 0 0 0 0 2 1 0 1 1 0 0 2 1 2 2 2 0 2 2 0 2 2 0 1 2 1 1 1 1 1 2 2 2 2\n",
            " 2 0 0 2 2 2 0 0 2 0 2 0 2 0 1 1 0 1 2 2 2 2 1 1 2 2 2 1 2 0 2 2 0 0 1 0 2\n",
            " 2 0 1 1 1 2 0 1 1 1 2 0 1 1 1 0 2 1 0 0 2 0 0 2 1 0 0 1 0 1 0 0 0 0 1 0 2\n",
            " 1 0 2 0 1 1 0 0 1]\n",
            "Test set inputs: [[5.9 3.  4.2 1.5]\n",
            " [6.9 3.1 5.4 2.1]\n",
            " [5.1 3.3 1.7 0.5]\n",
            " [6.  3.4 4.5 1.6]\n",
            " [5.5 2.5 4.  1.3]\n",
            " [6.2 2.9 4.3 1.3]\n",
            " [5.5 4.2 1.4 0.2]\n",
            " [6.3 2.8 5.1 1.5]\n",
            " [5.6 3.  4.1 1.3]\n",
            " [6.7 2.5 5.8 1.8]\n",
            " [7.1 3.  5.9 2.1]\n",
            " [4.3 3.  1.1 0.1]\n",
            " [5.6 2.8 4.9 2. ]\n",
            " [5.5 2.3 4.  1.3]\n",
            " [6.  2.2 4.  1. ]\n",
            " [5.1 3.5 1.4 0.2]\n",
            " [5.7 2.6 3.5 1. ]\n",
            " [4.8 3.4 1.9 0.2]\n",
            " [5.1 3.4 1.5 0.2]\n",
            " [5.7 2.5 5.  2. ]\n",
            " [5.4 3.4 1.7 0.2]\n",
            " [5.6 3.  4.5 1.5]\n",
            " [6.3 2.9 5.6 1.8]\n",
            " [6.3 2.5 4.9 1.5]\n",
            " [5.8 2.7 3.9 1.2]\n",
            " [6.1 3.  4.6 1.4]\n",
            " [5.2 4.1 1.5 0.1]\n",
            " [6.7 3.1 4.7 1.5]\n",
            " [6.7 3.3 5.7 2.5]\n",
            " [6.4 2.9 4.3 1.3]]\n",
            "Test set labels: [1 2 0 1 1 1 0 2 1 2 2 0 2 1 1 0 1 0 0 2 0 1 2 1 1 1 0 1 2 1]\n"
          ],
          "name": "stdout"
        }
      ]
    },
    {
      "cell_type": "markdown",
      "metadata": {
        "id": "VOcgRTuVJwc2"
      },
      "source": [
        "#### Build the neural network"
      ]
    },
    {
      "cell_type": "code",
      "metadata": {
        "colab": {
          "base_uri": "https://localhost:8080/"
        },
        "id": "VmwNdWI1Jwc3",
        "outputId": "9caa0c95-65a5-4294-d9b5-743b78ac336a"
      },
      "source": [
        "import tensorflow as tf\n",
        "\n",
        "#Neural network\n",
        "hids=[4,20,20,3]\n",
        "layer1=tf.keras.layers.Dense(hids[1], activation='tanh')\n",
        "layer2=tf.keras.layers.Dense(hids[2], activation='tanh')\n",
        "layer3=tf.keras.layers.Dense(hids[3], activation='softmax')\n",
        "model = tf.keras.Sequential([layer1,layer2,layer3])\n",
        "\n",
        "def run_network(x,training=False):\n",
        "    return model(x,training=training)\n",
        "\n",
        "print(run_network(inputs_train[0:1,:])) # we have to run the network once before the trainable_variables are created\n",
        "print(model.summary()) # Prints an overview of a keras model"
      ],
      "execution_count": 2,
      "outputs": [
        {
          "output_type": "stream",
          "text": [
            "tf.Tensor([[0.186428   0.5112821  0.30228996]], shape=(1, 3), dtype=float32)\n",
            "Model: \"sequential\"\n",
            "_________________________________________________________________\n",
            "Layer (type)                 Output Shape              Param #   \n",
            "=================================================================\n",
            "dense (Dense)                (1, 20)                   100       \n",
            "_________________________________________________________________\n",
            "dense_1 (Dense)              (1, 20)                   420       \n",
            "_________________________________________________________________\n",
            "dense_2 (Dense)              (1, 3)                    63        \n",
            "=================================================================\n",
            "Total params: 583\n",
            "Trainable params: 583\n",
            "Non-trainable params: 0\n",
            "_________________________________________________________________\n",
            "None\n"
          ],
          "name": "stdout"
        }
      ]
    },
    {
      "cell_type": "markdown",
      "metadata": {
        "id": "a-389B6VJwc3"
      },
      "source": [
        "#### Train the neural network"
      ]
    },
    {
      "cell_type": "code",
      "metadata": {
        "id": "549TB-YgJwc4"
      },
      "source": [
        "@tf.function\n",
        "def calc_loss_and_accuracy(inputs, labels, training):\n",
        "    y=run_network(inputs,training)\n",
        "    cce=tf.keras.losses.SparseCategoricalCrossentropy()\n",
        "    cross_entropy = tf.reduce_mean(cce(y_true=labels, y_pred=y))\n",
        "    total_loss=cross_entropy\n",
        "    correct_predictions = tf.equal(tf.argmax(y, axis=1), labels)\n",
        "    accuracy = tf.reduce_mean(tf.cast(correct_predictions, tf.float32))\n",
        "    k_L2=0.005\n",
        "    lossL2 = tf.add_n([ tf.nn.l2_loss(v) for v in trainable_variables ]) \n",
        "    total_loss+=lossL2*k_L2\n",
        "    return [total_loss, accuracy, cross_entropy]\n",
        "\n",
        "@tf.function\n",
        "def calc_training_loss():\n",
        "    return calc_loss_and_accuracy(inputs_train, labels_train, training=True)[0]\n",
        "trainable_variables=model.trainable_variables\n",
        "\n",
        "training_losses=[]\n",
        "test_losses=[]\n",
        "iterations=[]"
      ],
      "execution_count": 8,
      "outputs": []
    },
    {
      "cell_type": "code",
      "metadata": {
        "colab": {
          "base_uri": "https://localhost:8080/"
        },
        "id": "kDemTlR9Jwc6",
        "outputId": "77306eaa-868a-4790-9964-ad2f8194b74d"
      },
      "source": [
        "optimizer = tf.keras.optimizers.Adam()\n",
        "for i in range(10000):\n",
        "    optimizer.minimize(calc_training_loss, trainable_variables)\n",
        "    if (i%100)==0:\n",
        "        [train_loss, train_acc, train_cross_entropy]=calc_loss_and_accuracy(inputs_train, labels_train,training=False)\n",
        "        [test_loss, test_acc, test_cross_entropy]=calc_loss_and_accuracy(inputs_test, labels_test,training=False)\n",
        "        iterations.append(i)\n",
        "        training_losses.append(train_cross_entropy)\n",
        "        test_losses.append(test_cross_entropy)\n",
        "        print(\"iteration \",i,\" loss:\", train_loss.numpy(),\" accuracy:\", train_acc.numpy(), \"testLoss:\",test_loss.numpy(), \"test_accuracy:\", test_acc.numpy())"
      ],
      "execution_count": 9,
      "outputs": [
        {
          "output_type": "stream",
          "text": [
            "iteration  0  loss: 0.8636562  accuracy: 1.0 testLoss: 2.0024526 test_accuracy: 0.96666664\n",
            "iteration  100  loss: 0.71980506  accuracy: 1.0 testLoss: 1.7723119 test_accuracy: 0.96666664\n",
            "iteration  200  loss: 0.607956  accuracy: 1.0 testLoss: 1.5505676 test_accuracy: 0.96666664\n",
            "iteration  300  loss: 0.5191511  accuracy: 1.0 testLoss: 1.3289392 test_accuracy: 0.96666664\n",
            "iteration  400  loss: 0.44740823  accuracy: 1.0 testLoss: 1.1222458 test_accuracy: 0.96666664\n",
            "iteration  500  loss: 0.3895251  accuracy: 1.0 testLoss: 0.94517684 test_accuracy: 0.96666664\n",
            "iteration  600  loss: 0.34282908  accuracy: 1.0 testLoss: 0.80092597 test_accuracy: 0.96666664\n",
            "iteration  700  loss: 0.3045248  accuracy: 1.0 testLoss: 0.6795849 test_accuracy: 0.96666664\n",
            "iteration  800  loss: 0.27305317  accuracy: 1.0 testLoss: 0.57830334 test_accuracy: 0.96666664\n",
            "iteration  900  loss: 0.24751651  accuracy: 1.0 testLoss: 0.49642438 test_accuracy: 0.96666664\n",
            "iteration  1000  loss: 0.2269239  accuracy: 1.0 testLoss: 0.4291985 test_accuracy: 0.96666664\n",
            "iteration  1100  loss: 0.21030742  accuracy: 1.0 testLoss: 0.3784554 test_accuracy: 0.96666664\n",
            "iteration  1200  loss: 0.19672766  accuracy: 1.0 testLoss: 0.33804113 test_accuracy: 0.96666664\n",
            "iteration  1300  loss: 0.18552248  accuracy: 1.0 testLoss: 0.30433974 test_accuracy: 0.96666664\n",
            "iteration  1400  loss: 0.17611846  accuracy: 1.0 testLoss: 0.27783418 test_accuracy: 0.96666664\n",
            "iteration  1500  loss: 0.16814709  accuracy: 1.0 testLoss: 0.25606298 test_accuracy: 0.96666664\n",
            "iteration  1600  loss: 0.16135286  accuracy: 1.0 testLoss: 0.23816802 test_accuracy: 0.96666664\n",
            "iteration  1700  loss: 0.15549809  accuracy: 0.9916667 testLoss: 0.22320944 test_accuracy: 0.96666664\n",
            "iteration  1800  loss: 0.15042803  accuracy: 0.9916667 testLoss: 0.21059567 test_accuracy: 0.96666664\n",
            "iteration  1900  loss: 0.14602831  accuracy: 0.9916667 testLoss: 0.19977982 test_accuracy: 0.96666664\n",
            "iteration  2000  loss: 0.14218457  accuracy: 0.98333335 testLoss: 0.19033487 test_accuracy: 0.96666664\n",
            "iteration  2100  loss: 0.1388306  accuracy: 0.98333335 testLoss: 0.18245348 test_accuracy: 0.96666664\n",
            "iteration  2200  loss: 0.13590322  accuracy: 0.98333335 testLoss: 0.17484277 test_accuracy: 0.96666664\n",
            "iteration  2300  loss: 0.13332742  accuracy: 0.98333335 testLoss: 0.16941223 test_accuracy: 0.96666664\n",
            "iteration  2400  loss: 0.13110457  accuracy: 0.98333335 testLoss: 0.16349134 test_accuracy: 0.96666664\n",
            "iteration  2500  loss: 0.12913571  accuracy: 0.98333335 testLoss: 0.15965328 test_accuracy: 0.96666664\n",
            "iteration  2600  loss: 0.12744191  accuracy: 0.9916667 testLoss: 0.15585026 test_accuracy: 0.96666664\n",
            "iteration  2700  loss: 0.12597714  accuracy: 0.9916667 testLoss: 0.15236872 test_accuracy: 0.96666664\n",
            "iteration  2800  loss: 0.12470645  accuracy: 0.9916667 testLoss: 0.14937276 test_accuracy: 0.96666664\n",
            "iteration  2900  loss: 0.12359246  accuracy: 0.9916667 testLoss: 0.14683747 test_accuracy: 0.96666664\n",
            "iteration  3000  loss: 0.12260708  accuracy: 0.9916667 testLoss: 0.14436707 test_accuracy: 0.96666664\n",
            "iteration  3100  loss: 0.12172764  accuracy: 0.9916667 testLoss: 0.14255244 test_accuracy: 0.96666664\n",
            "iteration  3200  loss: 0.12093043  accuracy: 0.9916667 testLoss: 0.14075978 test_accuracy: 0.96666664\n",
            "iteration  3300  loss: 0.12020685  accuracy: 0.9916667 testLoss: 0.13915125 test_accuracy: 0.96666664\n",
            "iteration  3400  loss: 0.119540505  accuracy: 0.9916667 testLoss: 0.13768688 test_accuracy: 0.96666664\n",
            "iteration  3500  loss: 0.118924856  accuracy: 0.9916667 testLoss: 0.13639748 test_accuracy: 0.96666664\n",
            "iteration  3600  loss: 0.11835352  accuracy: 0.9916667 testLoss: 0.13515466 test_accuracy: 0.96666664\n",
            "iteration  3700  loss: 0.11782308  accuracy: 0.9916667 testLoss: 0.13390401 test_accuracy: 0.96666664\n",
            "iteration  3800  loss: 0.1173314  accuracy: 0.9916667 testLoss: 0.13307977 test_accuracy: 0.96666664\n",
            "iteration  3900  loss: 0.116908774  accuracy: 0.9916667 testLoss: 0.13168721 test_accuracy: 0.96666664\n",
            "iteration  4000  loss: 0.116472736  accuracy: 0.9916667 testLoss: 0.13142517 test_accuracy: 0.96666664\n",
            "iteration  4100  loss: 0.11610551  accuracy: 0.9916667 testLoss: 0.13074979 test_accuracy: 0.96666664\n",
            "iteration  4200  loss: 0.115783185  accuracy: 0.9916667 testLoss: 0.13012654 test_accuracy: 0.96666664\n",
            "iteration  4300  loss: 0.115499675  accuracy: 0.9916667 testLoss: 0.12962249 test_accuracy: 0.96666664\n",
            "iteration  4400  loss: 0.11525311  accuracy: 0.9916667 testLoss: 0.12912741 test_accuracy: 0.96666664\n",
            "iteration  4500  loss: 0.11504206  accuracy: 0.9916667 testLoss: 0.1287477 test_accuracy: 0.96666664\n",
            "iteration  4600  loss: 0.11485857  accuracy: 0.9916667 testLoss: 0.12838255 test_accuracy: 0.96666664\n",
            "iteration  4700  loss: 0.11470477  accuracy: 0.9916667 testLoss: 0.128073 test_accuracy: 0.96666664\n",
            "iteration  4800  loss: 0.11457239  accuracy: 0.9916667 testLoss: 0.12778991 test_accuracy: 0.96666664\n",
            "iteration  4900  loss: 0.114461586  accuracy: 0.9916667 testLoss: 0.12737815 test_accuracy: 0.96666664\n",
            "iteration  5000  loss: 0.114360616  accuracy: 0.9916667 testLoss: 0.12732361 test_accuracy: 0.96666664\n",
            "iteration  5100  loss: 0.11427601  accuracy: 0.9916667 testLoss: 0.12712352 test_accuracy: 0.96666664\n",
            "iteration  5200  loss: 0.11420302  accuracy: 0.9916667 testLoss: 0.12693465 test_accuracy: 0.96666664\n",
            "iteration  5300  loss: 0.1141388  accuracy: 0.9916667 testLoss: 0.12678918 test_accuracy: 0.96666664\n",
            "iteration  5400  loss: 0.11408259  accuracy: 0.9916667 testLoss: 0.12668368 test_accuracy: 0.96666664\n",
            "iteration  5500  loss: 0.11403264  accuracy: 0.9916667 testLoss: 0.12651685 test_accuracy: 0.96666664\n",
            "iteration  5600  loss: 0.11399034  accuracy: 0.9916667 testLoss: 0.12628806 test_accuracy: 0.96666664\n",
            "iteration  5700  loss: 0.113950394  accuracy: 0.9916667 testLoss: 0.12629893 test_accuracy: 0.96666664\n",
            "iteration  5800  loss: 0.11391692  accuracy: 0.9916667 testLoss: 0.12621216 test_accuracy: 0.96666664\n",
            "iteration  5900  loss: 0.11389037  accuracy: 0.9916667 testLoss: 0.1262612 test_accuracy: 0.96666664\n",
            "iteration  6000  loss: 0.113863215  accuracy: 0.9916667 testLoss: 0.12606394 test_accuracy: 0.96666664\n",
            "iteration  6100  loss: 0.11384207  accuracy: 0.9916667 testLoss: 0.12605539 test_accuracy: 0.96666664\n",
            "iteration  6200  loss: 0.113823555  accuracy: 0.9916667 testLoss: 0.12594897 test_accuracy: 0.96666664\n",
            "iteration  6300  loss: 0.11380764  accuracy: 0.9916667 testLoss: 0.12591074 test_accuracy: 0.96666664\n",
            "iteration  6400  loss: 0.11379384  accuracy: 0.9916667 testLoss: 0.12588288 test_accuracy: 0.96666664\n",
            "iteration  6500  loss: 0.1137818  accuracy: 0.9916667 testLoss: 0.12583604 test_accuracy: 0.96666664\n",
            "iteration  6600  loss: 0.11377086  accuracy: 0.9916667 testLoss: 0.1258091 test_accuracy: 0.96666664\n",
            "iteration  6700  loss: 0.11376137  accuracy: 0.9916667 testLoss: 0.12582627 test_accuracy: 0.96666664\n",
            "iteration  6800  loss: 0.11375214  accuracy: 0.9916667 testLoss: 0.1257591 test_accuracy: 0.96666664\n",
            "iteration  6900  loss: 0.113765664  accuracy: 0.9916667 testLoss: 0.12612665 test_accuracy: 0.96666664\n",
            "iteration  7000  loss: 0.11373633  accuracy: 0.9916667 testLoss: 0.1257217 test_accuracy: 0.96666664\n",
            "iteration  7100  loss: 0.11372922  accuracy: 0.9916667 testLoss: 0.1257032 test_accuracy: 0.96666664\n",
            "iteration  7200  loss: 0.11372267  accuracy: 0.9916667 testLoss: 0.12568682 test_accuracy: 0.96666664\n",
            "iteration  7300  loss: 0.11371651  accuracy: 0.9916667 testLoss: 0.12567577 test_accuracy: 0.96666664\n",
            "iteration  7400  loss: 0.11371149  accuracy: 0.9916667 testLoss: 0.12573522 test_accuracy: 0.96666664\n",
            "iteration  7500  loss: 0.11370531  accuracy: 0.9916667 testLoss: 0.1256522 test_accuracy: 0.96666664\n",
            "iteration  7600  loss: 0.11376727  accuracy: 0.9916667 testLoss: 0.12635143 test_accuracy: 0.96666664\n",
            "iteration  7700  loss: 0.11369537  accuracy: 0.9916667 testLoss: 0.1256362 test_accuracy: 0.96666664\n",
            "iteration  7800  loss: 0.11369075  accuracy: 0.9916667 testLoss: 0.12562527 test_accuracy: 0.96666664\n",
            "iteration  7900  loss: 0.11368653  accuracy: 0.9916667 testLoss: 0.12563625 test_accuracy: 0.96666664\n",
            "iteration  8000  loss: 0.113682434  accuracy: 0.9916667 testLoss: 0.12561217 test_accuracy: 0.96666664\n",
            "iteration  8100  loss: 0.11368041  accuracy: 0.9916667 testLoss: 0.12550132 test_accuracy: 0.96666664\n",
            "iteration  8200  loss: 0.11367507  accuracy: 0.9916667 testLoss: 0.12559956 test_accuracy: 0.96666664\n",
            "iteration  8300  loss: 0.113671646  accuracy: 0.9916667 testLoss: 0.12559941 test_accuracy: 0.96666664\n",
            "iteration  8400  loss: 0.1136685  accuracy: 0.9916667 testLoss: 0.12559593 test_accuracy: 0.96666664\n",
            "iteration  8500  loss: 0.11366549  accuracy: 0.9916667 testLoss: 0.12558803 test_accuracy: 0.96666664\n",
            "iteration  8600  loss: 0.11366528  accuracy: 0.9916667 testLoss: 0.12571487 test_accuracy: 0.96666664\n",
            "iteration  8700  loss: 0.11366007  accuracy: 0.9916667 testLoss: 0.12558037 test_accuracy: 0.96666664\n",
            "iteration  8800  loss: 0.11365795  accuracy: 0.9916667 testLoss: 0.12562957 test_accuracy: 0.96666664\n",
            "iteration  8900  loss: 0.11365531  accuracy: 0.9916667 testLoss: 0.125568 test_accuracy: 0.96666664\n",
            "iteration  9000  loss: 0.11365314  accuracy: 0.9916667 testLoss: 0.12557338 test_accuracy: 0.96666664\n",
            "iteration  9100  loss: 0.11365913  accuracy: 0.9916667 testLoss: 0.12580045 test_accuracy: 0.96666664\n",
            "iteration  9200  loss: 0.11364932  accuracy: 0.9916667 testLoss: 0.12556994 test_accuracy: 0.96666664\n",
            "iteration  9300  loss: 0.11364759  accuracy: 0.9916667 testLoss: 0.12556778 test_accuracy: 0.96666664\n",
            "iteration  9400  loss: 0.113646924  accuracy: 0.9916667 testLoss: 0.12549078 test_accuracy: 0.96666664\n",
            "iteration  9500  loss: 0.11364454  accuracy: 0.9916667 testLoss: 0.12556466 test_accuracy: 0.96666664\n",
            "iteration  9600  loss: 0.113643244  accuracy: 0.9916667 testLoss: 0.12554054 test_accuracy: 0.96666664\n",
            "iteration  9700  loss: 0.11364195  accuracy: 0.9916667 testLoss: 0.12555659 test_accuracy: 0.96666664\n",
            "iteration  9800  loss: 0.11364079  accuracy: 0.9916667 testLoss: 0.12556177 test_accuracy: 0.96666664\n",
            "iteration  9900  loss: 0.11364113  accuracy: 0.9916667 testLoss: 0.12546904 test_accuracy: 0.96666664\n"
          ],
          "name": "stdout"
        }
      ]
    },
    {
      "cell_type": "code",
      "metadata": {
        "colab": {
          "base_uri": "https://localhost:8080/",
          "height": 279
        },
        "id": "H6jbv7dgJwc7",
        "outputId": "205d2d9d-8a0f-4063-a400-8627d4c887fc"
      },
      "source": [
        "import matplotlib.pyplot as plt\n",
        "plt.plot(iterations,training_losses,label=\"train\")\n",
        "plt.plot(iterations,test_losses,label=\"test\")\n",
        "plt.xlabel(\"Iteration\")\n",
        "plt.ylabel('Cross-Entropy Loss')\n",
        "plt.grid()\n",
        "plt.legend()\n",
        "plt.show()"
      ],
      "execution_count": 10,
      "outputs": [
        {
          "output_type": "display_data",
          "data": {
            "image/png": "[encoded data removed]",
            "text/plain": [
              "<Figure size 432x288 with 1 Axes>"
            ]
          },
          "metadata": {
            "tags": [],
            "needs_background": "light"
          }
        }
      ]
    },
    {
      "cell_type": "markdown",
      "metadata": {
        "id": "COa3-XcNJwc9"
      },
      "source": [
        "## End of lecture 3\n"
      ]
    }
  ]
}