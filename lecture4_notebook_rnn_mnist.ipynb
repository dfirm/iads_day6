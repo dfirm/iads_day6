{
  "nbformat": 4,
  "nbformat_minor": 0,
  "metadata": {
    "kernelspec": {
      "display_name": "Python 3 (ipykernel)",
      "language": "python",
      "name": "python3"
    },
    "language_info": {
      "codemirror_mode": {
        "name": "ipython",
        "version": 3
      },
      "file_extension": ".py",
      "mimetype": "text/x-python",
      "name": "python",
      "nbconvert_exporter": "python",
      "pygments_lexer": "ipython3",
      "version": "3.9.6"
    },
    "colab": {
      "name": "lecture4-notebook-rnn-mnist.ipynb",
      "provenance": [],
      "include_colab_link": true
    },
    "accelerator": "GPU"
  },
  "cells": [
    {
      "cell_type": "markdown",
      "metadata": {
        "id": "view-in-github",
        "colab_type": "text"
      },
      "source": [
        "<a href=\"https://colab.research.google.com/github/dfirm/iads_day6/blob/main/lecture4_notebook_rnn_mnist.ipynb\" target=\"_parent\"><img src=\"https://colab.research.google.com/assets/colab-badge.svg\" alt=\"Open In Colab\"/></a>"
      ]
    },
    {
      "cell_type": "markdown",
      "metadata": {
        "id": "UtnXvwkchCvX"
      },
      "source": [
        "# Lecture 4 notebook (Recurrent Neural Networks Example 2: MNIST)\n",
        "## Introduction to TensorFlow and Deep Learning\n",
        "\n",
        "## IADS Summer School, 2nd August 2021\n",
        "\n",
        "### Dr Michael Fairbank, University of Essex, UK\n",
        "\n",
        "- Email: m.fairbank@essex.ac.uk\n",
        "- This is a Jupyter Notebook to accompany Lecture 4 of the course\n",
        "\n"
      ]
    },
    {
      "cell_type": "markdown",
      "metadata": {
        "id": "0lmcbejKhCvb"
      },
      "source": [
        "## Build a time-sequence test problem\n",
        "\n",
        "- We will treat each 28*28 image of the MNIST digits as a time sequence!\n",
        "- We will ask a RNN to look at one row at a time of each image (i.e. a time sequence of rows)\n",
        "- The task for the RNN is simply to classify each digit\n",
        "- Acknowledgement: The idea for this demo came from https://github.com/aymericdamien/TensorFlow-Examples/blob/master/examples/3_NeuralNetworks/recurrent_network.py\n"
      ]
    },
    {
      "cell_type": "code",
      "metadata": {
        "colab": {
          "base_uri": "https://localhost:8080/"
        },
        "id": "9Bd0GGCrhCvd",
        "outputId": "79ec632b-39e0-4e26-e004-3b7722a57da9"
      },
      "source": [
        "import tensorflow as tf\n",
        "import tensorflow.keras as keras\n",
        "import numpy as np\n",
        "\n",
        "mnist = tf.keras.datasets.mnist\n",
        "(train_images, train_labels),(test_images, test_labels) = mnist.load_data()\n",
        "# MNIST images are 28*28.  \n",
        "# Also rescale greyscale from 8 bit to floating point (by dividing by 255)\n",
        "test_images=test_images.astype('float32')/255.0 # 10000 test patterns, shape 10000*28*28\n",
        "train_images=train_images.astype('float32')/255.0 # 60000 train patterns, shape 60000*28*28\n",
        "\n",
        "'''\n",
        "To classify images using a recurrent neural network, we consider every image\n",
        "row as a sequence of pixels. Because MNIST image shape is 28*28px, we will then\n",
        "handle 28 sequences of 28 steps for every sample.\n",
        "'''\n",
        "\n",
        "num_classification_categories=train_labels.max()+1\n",
        "layer0=tf.keras.layers.Reshape((28,28))\n",
        "#layer1=tf.keras.layers.SimpleRNN(n_hidden, return_sequences=False) \n",
        "layer1=tf.keras.layers.LSTM(128, return_sequences=False) # receives input shape (batch_size, sequence_length, 28), and produces output shape (batch_size, 128)\n",
        "layer2=tf.keras.layers.Dense(10, activation='relu') # A fully connected layer with 10 outputs\n",
        "layer3=tf.keras.layers.Dense(10, activation='relu') # A fully connected layer with 10 outputs\n",
        "layer4=tf.keras.layers.Dense(num_classification_categories, activation=None) # final layer with 10 outputs (i.e. 10 probabilities)\n",
        "model = tf.keras.Sequential([layer0, layer1,layer2,layer3,layer4])\n",
        "\n",
        "model(train_images[0:10],True) # we have to run the network once before the trainable_variables are created\n",
        "print(model.summary())"
      ],
      "execution_count": 4,
      "outputs": [
        {
          "output_type": "stream",
          "text": [
            "Model: \"sequential_1\"\n",
            "_________________________________________________________________\n",
            "Layer (type)                 Output Shape              Param #   \n",
            "=================================================================\n",
            "reshape_1 (Reshape)          (10, 28, 28)              0         \n",
            "_________________________________________________________________\n",
            "lstm_1 (LSTM)                (10, 128)                 80384     \n",
            "_________________________________________________________________\n",
            "dense_2 (Dense)              (10, 10)                  1290      \n",
            "_________________________________________________________________\n",
            "dense_3 (Dense)              (10, 10)                  110       \n",
            "_________________________________________________________________\n",
            "dense_4 (Dense)              (10, 10)                  110       \n",
            "=================================================================\n",
            "Total params: 81,894\n",
            "Trainable params: 81,894\n",
            "Non-trainable params: 0\n",
            "_________________________________________________________________\n",
            "None\n"
          ],
          "name": "stdout"
        }
      ]
    },
    {
      "cell_type": "code",
      "metadata": {
        "colab": {
          "base_uri": "https://localhost:8080/"
        },
        "id": "ViwsBoAxhCve",
        "outputId": "bfa0451a-0527-4f97-fc53-d6a3a53dd127"
      },
      "source": [
        "optimizer=keras.optimizers.Adam()\n",
        "\n",
        "model.compile(optimizer=optimizer,  \n",
        "              loss=keras.losses.SparseCategoricalCrossentropy(from_logits=True),\n",
        "              metrics=['accuracy'])\n",
        "\n",
        "history = model.fit(train_images, train_labels,\n",
        "                batch_size=128,\n",
        "                epochs=5,\n",
        "                validation_data=(test_images, test_labels))"
      ],
      "execution_count": 5,
      "outputs": [
        {
          "output_type": "stream",
          "text": [
            "Epoch 1/5\n",
            "469/469 [==============================] - 40s 80ms/step - loss: 0.7681 - accuracy: 0.7517 - val_loss: 0.2536 - val_accuracy: 0.9290\n",
            "Epoch 2/5\n",
            "469/469 [==============================] - 38s 80ms/step - loss: 0.2005 - accuracy: 0.9439 - val_loss: 0.1401 - val_accuracy: 0.9618\n",
            "Epoch 3/5\n",
            "469/469 [==============================] - 38s 80ms/step - loss: 0.1252 - accuracy: 0.9646 - val_loss: 0.1092 - val_accuracy: 0.9696\n",
            "Epoch 4/5\n",
            "469/469 [==============================] - 38s 80ms/step - loss: 0.0955 - accuracy: 0.9722 - val_loss: 0.0873 - val_accuracy: 0.9753\n",
            "Epoch 5/5\n",
            "469/469 [==============================] - 38s 80ms/step - loss: 0.0768 - accuracy: 0.9776 - val_loss: 0.0863 - val_accuracy: 0.9753\n"
          ],
          "name": "stdout"
        }
      ]
    },
    {
      "cell_type": "code",
      "metadata": {
        "colab": {
          "base_uri": "https://localhost:8080/",
          "height": 279
        },
        "id": "d-bUQUiZhCvf",
        "outputId": "b54c3858-6bd3-4d8c-9466-cf29a387ae6d"
      },
      "source": [
        "import matplotlib.pyplot as plt\n",
        "plt.plot(history.history['accuracy'], label='accuracy')\n",
        "plt.plot(history.history['val_accuracy'], label = 'val_accuracy')\n",
        "plt.xlabel('Epoch')\n",
        "plt.ylabel('Accuracy')\n",
        "plt.grid()\n",
        "plt.legend(loc='lower right')\n",
        "plt.show()"
      ],
      "execution_count": 6,
      "outputs": [
        {
          "output_type": "display_data",
          "data": {
            "image/png": "[encoded data removed]",
            "text/plain": [
              "<Figure size 432x288 with 1 Axes>"
            ]
          },
          "metadata": {
            "tags": [],
            "needs_background": "light"
          }
        }
      ]
    }
  ]
}